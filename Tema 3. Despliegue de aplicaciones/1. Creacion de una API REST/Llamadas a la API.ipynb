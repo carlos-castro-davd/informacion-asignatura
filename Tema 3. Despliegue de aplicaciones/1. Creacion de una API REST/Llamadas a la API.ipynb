{
 "cells": [
  {
   "cell_type": "code",
   "execution_count": 1,
   "metadata": {},
   "outputs": [],
   "source": [
    "import requests\n",
    "import pandas as pd"
   ]
  },
  {
   "cell_type": "code",
   "execution_count": 2,
   "metadata": {},
   "outputs": [],
   "source": [
    "url = \"http://127.0.0.1:5000/\"\n",
    "review_id = 1"
   ]
  },
  {
   "cell_type": "code",
   "execution_count": 8,
   "metadata": {},
   "outputs": [
    {
     "name": "stdout",
     "output_type": "stream",
     "text": [
      "¿Cómo te llamas? lorenzo\n",
      "¿Cuál ha sido tu opinión del restaurante? very bad shit/20\n",
      "Valora de 1 a 5 tu experiencia en el restaurante 5\n",
      "5\n"
     ]
    }
   ],
   "source": [
    "# Lo primero que haremos será añadir reviews\n",
    "name = input(\"¿Cómo te llamas? \")\n",
    "review = input(\"¿Cuál ha sido tu opinión del restaurante? \")\n",
    "valoracion = input(\"Valora de 1 a 5 tu experiencia en el restaurante \")\n",
    "\n",
    "print(valoracion)\n",
    "\n",
    "response = requests.put(url + \"sentiment/{}\".format(review_id), {\"name\": name, \"review\": review, \"rating\": valoracion})\n",
    "\n",
    "review_id += 1"
   ]
  },
  {
   "cell_type": "code",
   "execution_count": 9,
   "metadata": {},
   "outputs": [
    {
     "data": {
      "text/html": [
       "<div>\n",
       "<style scoped>\n",
       "    .dataframe tbody tr th:only-of-type {\n",
       "        vertical-align: middle;\n",
       "    }\n",
       "\n",
       "    .dataframe tbody tr th {\n",
       "        vertical-align: top;\n",
       "    }\n",
       "\n",
       "    .dataframe thead th {\n",
       "        text-align: right;\n",
       "    }\n",
       "</style>\n",
       "<table border=\"1\" class=\"dataframe\">\n",
       "  <thead>\n",
       "    <tr style=\"text-align: right;\">\n",
       "      <th></th>\n",
       "      <th>name</th>\n",
       "      <th>review</th>\n",
       "      <th>rating</th>\n",
       "      <th>prediction</th>\n",
       "      <th>probability</th>\n",
       "      <th>timestamp</th>\n",
       "    </tr>\n",
       "    <tr>\n",
       "      <th>id</th>\n",
       "      <th></th>\n",
       "      <th></th>\n",
       "      <th></th>\n",
       "      <th></th>\n",
       "      <th></th>\n",
       "      <th></th>\n",
       "    </tr>\n",
       "  </thead>\n",
       "  <tbody>\n",
       "    <tr>\n",
       "      <th>1</th>\n",
       "      <td>NaN</td>\n",
       "      <td>NaN</td>\n",
       "      <td>NaN</td>\n",
       "      <td>NaN</td>\n",
       "      <td>NaN</td>\n",
       "      <td>NaN</td>\n",
       "    </tr>\n",
       "    <tr>\n",
       "      <th>2</th>\n",
       "      <td>Cristina</td>\n",
       "      <td>El servicio muy bueno, los camareros muy agrad...</td>\n",
       "      <td>1.0</td>\n",
       "      <td>3</td>\n",
       "      <td>0.566805</td>\n",
       "      <td>2021-11-15 19:23:00.951349</td>\n",
       "    </tr>\n",
       "    <tr>\n",
       "      <th>3</th>\n",
       "      <td>Alessandra</td>\n",
       "      <td>Tres bon restaurant, de gentils serveurs et un...</td>\n",
       "      <td>4.0</td>\n",
       "      <td>4</td>\n",
       "      <td>0.601571</td>\n",
       "      <td>2021-11-15 19:24:54.458541</td>\n",
       "    </tr>\n",
       "    <tr>\n",
       "      <th>4</th>\n",
       "      <td>Vicente</td>\n",
       "      <td>El extra de carne en la sopa se aprecia</td>\n",
       "      <td>1.0</td>\n",
       "      <td>3</td>\n",
       "      <td>0.373148</td>\n",
       "      <td>2021-11-15 19:26:12.679339</td>\n",
       "    </tr>\n",
       "    <tr>\n",
       "      <th>5</th>\n",
       "      <td>Sonia</td>\n",
       "      <td>La comida ha sido deliciosa y me ha encantado ...</td>\n",
       "      <td>5.0</td>\n",
       "      <td>5</td>\n",
       "      <td>0.693611</td>\n",
       "      <td>2021-11-15 19:27:05.724293</td>\n",
       "    </tr>\n",
       "    <tr>\n",
       "      <th>6</th>\n",
       "      <td>lorenzo</td>\n",
       "      <td>very bad shit/20</td>\n",
       "      <td>5.0</td>\n",
       "      <td>1</td>\n",
       "      <td>0.891907</td>\n",
       "      <td>2021-11-15 19:28:02.089294</td>\n",
       "    </tr>\n",
       "  </tbody>\n",
       "</table>\n",
       "</div>"
      ],
      "text/plain": [
       "          name                                             review  rating  \\\n",
       "id                                                                          \n",
       "1          NaN                                                NaN     NaN   \n",
       "2     Cristina  El servicio muy bueno, los camareros muy agrad...     1.0   \n",
       "3   Alessandra  Tres bon restaurant, de gentils serveurs et un...     4.0   \n",
       "4      Vicente            El extra de carne en la sopa se aprecia     1.0   \n",
       "5        Sonia  La comida ha sido deliciosa y me ha encantado ...     5.0   \n",
       "6      lorenzo                                   very bad shit/20     5.0   \n",
       "\n",
       "   prediction  probability                   timestamp  \n",
       "id                                                      \n",
       "1         NaN          NaN                         NaN  \n",
       "2           3     0.566805  2021-11-15 19:23:00.951349  \n",
       "3           4     0.601571  2021-11-15 19:24:54.458541  \n",
       "4           3     0.373148  2021-11-15 19:26:12.679339  \n",
       "5           5     0.693611  2021-11-15 19:27:05.724293  \n",
       "6           1     0.891907  2021-11-15 19:28:02.089294  "
      ]
     },
     "execution_count": 9,
     "metadata": {},
     "output_type": "execute_result"
    }
   ],
   "source": [
    "# Vamos a mirar que ha sido guardado\n",
    "reviews = pd.DataFrame()\n",
    "\n",
    "for i in range(1,review_id):\n",
    "    response = requests.get(url + \"sentiment/{}\".format(i))\n",
    "    reviews = reviews.append(response.json(),ignore_index = True)\n",
    "\n",
    "# Formateo la salida\n",
    "reviews[\"id\"] = [x+1 for x in reviews.index]\n",
    "reviews.set_index(\"id\",inplace = True)\n",
    "\n",
    "reviews[[\"name\", \"review\", \"rating\", \"prediction\", \"probability\",\"timestamp\"]]"
   ]
  },
  {
   "cell_type": "code",
   "execution_count": null,
   "metadata": {},
   "outputs": [],
   "source": []
  }
 ],
 "metadata": {
  "kernelspec": {
   "display_name": "Python 3",
   "language": "python",
   "name": "python3"
  },
  "language_info": {
   "codemirror_mode": {
    "name": "ipython",
    "version": 3
   },
   "file_extension": ".py",
   "mimetype": "text/x-python",
   "name": "python",
   "nbconvert_exporter": "python",
   "pygments_lexer": "ipython3",
   "version": "3.8.5"
  }
 },
 "nbformat": 4,
 "nbformat_minor": 4
}
