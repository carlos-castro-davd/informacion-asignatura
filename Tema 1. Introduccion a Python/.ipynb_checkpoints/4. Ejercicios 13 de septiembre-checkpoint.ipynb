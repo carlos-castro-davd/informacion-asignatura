{
 "cells": [
  {
   "cell_type": "markdown",
   "metadata": {},
   "source": [
    "# Ejercicios propuestos"
   ]
  },
  {
   "cell_type": "code",
   "execution_count": null,
   "metadata": {},
   "outputs": [],
   "source": [
    "import datetime as dt\n",
    "import numpy as np"
   ]
  },
  {
   "cell_type": "markdown",
   "metadata": {},
   "source": [
    "### Ejercicio 1: Crea una lista con las fechas y horas de clase desde hoy (13 de septiembre) hasta la última clase (29 de noviembre), ten en cuenta que el día 1 de noviembre es festivo y se traslada la fecha al día 3 de noviembre (miércoles).   "
   ]
  },
  {
   "cell_type": "code",
   "execution_count": null,
   "metadata": {},
   "outputs": [],
   "source": [
    "# Solución de Juan Sánchez\n",
    "fecha_ini = dt.datetime(2021, 9, 13)\n",
    "fecha_fin = dt.datetime(2021, 11, 29)\n",
    "\n",
    "fecha_actual = fecha_ini\n",
    "lista_fechas = []\n",
    "\n",
    "\n",
    "\n",
    "while (fecha_actual <= fecha_fin):\n",
    "if (fecha_actual == dt.datetime(2021, 11, 1, 0, 0)):\n",
    "lista_fechas.append(dt.datetime(2021, 11, 3, 0, 0))\n",
    "else:\n",
    "lista_fechas.append(fecha_actual)\n",
    "fecha_actual += dt.timedelta(days=7)"
   ]
  },
  {
   "cell_type": "markdown",
   "metadata": {},
   "source": [
    "### Ejercicio 2: Crea un array de enteros impares desde el 10 al 50"
   ]
  },
  {
   "cell_type": "code",
   "execution_count": null,
   "metadata": {},
   "outputs": [],
   "source": [
    "# Solución de Vicente \n",
    "e = np.arange(11, 51, 2)\n",
    "\n",
    "print(e)"
   ]
  },
  {
   "cell_type": "markdown",
   "metadata": {},
   "source": [
    "### Ejercicio 3: Crea dos matrices 3x3 con los valores del 0 al 8 y súmalas (hay que mirar la librería numpy para esto)"
   ]
  },
  {
   "cell_type": "code",
   "execution_count": null,
   "metadata": {},
   "outputs": [],
   "source": [
    "# Solución de Vicente\n",
    "e = np.arange(9).reshape(3,3)\n",
    "\n",
    "t = e.copy()\n",
    "\n",
    "print(e+t)"
   ]
  },
  {
   "cell_type": "markdown",
   "metadata": {},
   "source": [
    "### Ejercicio 4: Crea una función para efectuar el producto real de matrices"
   ]
  },
  {
   "cell_type": "code",
   "execution_count": null,
   "metadata": {},
   "outputs": [],
   "source": [
    "# Solución Cristina Acín \n",
    "\n",
    "def productoReal(a,b):\n",
    "if a.shape[0]!=b.shape[1]:\n",
    "raise Exception(\"Las dimensiones de las matrices no son correctas\")\n",
    "\n",
    "\n",
    "\n",
    "res=np.zeros((a.shape[0],b.shape[1]))\n",
    "for i in range(a.shape[0]):\n",
    "for j in range(b.shape[1]):\n",
    "res[i,j] = a[i,:].dot(b[:,j])\n",
    "return res\n",
    "\n",
    "\n",
    "\n",
    "ejemplo=productoReal(np.asarray([[10,3],[8,9]]), np.asarray([[3,4],[5,2]]))\n",
    "print(ejemplo)"
   ]
  },
  {
   "cell_type": "markdown",
   "metadata": {},
   "source": [
    "### Ejercicio 5: Define una clase de números complejos cuyos métodos sean el modulo y el argumento"
   ]
  },
  {
   "cell_type": "code",
   "execution_count": null,
   "metadata": {},
   "outputs": [],
   "source": [
    "# Solución de Nicolás Oriol\n",
    "class NumeroComplejo():\n",
    "\n",
    "    def __init__(self,x,y):\n",
    "        self.x = x\n",
    "        self.y = y\n",
    "\n",
    "    def modulo(self):\n",
    "        return round(np.sqrt(self.x*self.x + self.y*self.y),2)\n",
    "\n",
    "    def argumento(self):\n",
    "        return round(rad2Grad(np.arctan2(self.x, self.y)), 2)\n",
    "\n",
    "    def toString(self):\n",
    "        if (self.y <= 0):\n",
    "            sign = \" \"\n",
    "        else:\n",
    "            sign = \" +\"\n",
    "        return str(round(self.x,2)) + sign + str(round(self.y,2)) + \"i\"\n",
    "    \n",
    "    # Añado este metodo para facilitar la division\n",
    "    def conjugado(self):\n",
    "        conjugado = NumeroComplejo(self.x,-self.y)\n",
    "        return conjugado"
   ]
  },
  {
   "cell_type": "markdown",
   "metadata": {},
   "source": [
    "### Ejercicio 6: Define en funciones las operaciones básicas entre números complejos (sumar, restar, multiplicar y dividir)"
   ]
  },
  {
   "cell_type": "code",
   "execution_count": null,
   "metadata": {},
   "outputs": [],
   "source": [
    "def suma_complejos(z1,z2):\n",
    "    \"\"\"\n",
    "    Parameters:\n",
    "    z1 : NumeroComplejo. Primer sumando, debe ser un objeto de la clase NumeroComplejo\n",
    "    \n",
    "    z2 : NumeroComplejo. Segundo sumando, debe ser un objeto de la clase NumeroComplejo\n",
    "    \n",
    "    Output:\n",
    "    \n",
    "    z : NumeroComplejo. Resultado de la suma. Es un objeto de la clase NumeroComplejo\n",
    "    \"\"\"\n",
    "    \n",
    "    z = NumeroComplejo(\n",
    "        x = z1.x + z2.x,\n",
    "        y = z1.y + z2.y\n",
    "    )\n",
    "    \n",
    "    return z"
   ]
  },
  {
   "cell_type": "code",
   "execution_count": null,
   "metadata": {},
   "outputs": [],
   "source": [
    "def resta_complejos(z1,z2):\n",
    "    \"\"\"\n",
    "    Parameters:\n",
    "    z1 : NumeroComplejo. Primer elemento de la resta, debe ser un objeto de la clase NumeroComplejo\n",
    "    \n",
    "    z2 : NumeroComplejo. Segundo elemento de la resta, debe ser un objeto de la clase NumeroComplejo\n",
    "    \n",
    "    Output:\n",
    "    \n",
    "    z : NumeroComplejo. Resultado de la resta. Es un objeto de la clase NumeroComplejo\n",
    "    \"\"\"\n",
    "    \n",
    "    z = suma_complejos(z1,NumeroComplejo(-z2.x, -z2.y))\n",
    "    \n",
    "    return z"
   ]
  },
  {
   "cell_type": "code",
   "execution_count": null,
   "metadata": {},
   "outputs": [],
   "source": [
    "def multiplica_complejos(z1,z2):\n",
    "    \"\"\"\n",
    "    Parameters:\n",
    "    z1 : NumeroComplejo. Primer factor, debe ser un objeto de la clase NumeroComplejo\n",
    "    \n",
    "    z2 : NumeroComplejo. Segundo factor, debe ser un objeto de la clase NumeroComplejo\n",
    "    \n",
    "    Output:\n",
    "    \n",
    "    z : NumeroComplejo. Resultado de la multiplicación. Es un objeto de la clase NumeroComplejo\n",
    "    \"\"\"\n",
    "    \n",
    "    z = NumeroComplejo(\n",
    "        x = z1.x * z2.x - z1.y * z2.y,\n",
    "        y = z1.x * z2.y + z1.y * z2.x,\n",
    "    )\n",
    "    \n",
    "    return z"
   ]
  },
  {
   "cell_type": "code",
   "execution_count": null,
   "metadata": {},
   "outputs": [],
   "source": [
    "def divide_complejos(z1,z2):\n",
    "    \"\"\"\n",
    "    Parameters:\n",
    "    z1 : NumeroComplejo. Dividendo, debe ser un objeto de la clase NumeroComplejo\n",
    "    \n",
    "    z2 : NumeroComplejo. Divisor, debe ser un objeto de la clase NumeroComplejo\n",
    "    \n",
    "    Output:\n",
    "    \n",
    "    z : NumeroComplejo. Resultado de la división. Es un objeto de la clase NumeroComplejo\n",
    "    \"\"\"\n",
    "    if (z2.x == 0) & (z2.y == 0):\n",
    "        raise Exception(\"La division por 0 no está definida\")\n",
    "    \n",
    "    numerador = multiplica_complejos(z1,z2.conjugado())\n",
    "    \n",
    "    denominador = z2.modulo()\n",
    "    \n",
    "    z = NumeroComplejo(\n",
    "        x = numerador.x / denominador,\n",
    "        y = numerador.y / denominador\n",
    "    )\n",
    "    return z"
   ]
  }
 ],
 "metadata": {
  "kernelspec": {
   "display_name": "Python 3",
   "language": "python",
   "name": "python3"
  },
  "language_info": {
   "codemirror_mode": {
    "name": "ipython",
    "version": 3
   },
   "file_extension": ".py",
   "mimetype": "text/x-python",
   "name": "python",
   "nbconvert_exporter": "python",
   "pygments_lexer": "ipython3",
   "version": "3.8.5"
  }
 },
 "nbformat": 4,
 "nbformat_minor": 4
}
