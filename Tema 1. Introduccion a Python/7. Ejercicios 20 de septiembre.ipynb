{
 "cells": [
  {
   "cell_type": "markdown",
   "metadata": {},
   "source": [
    "# Ejercicios del 20 de septiembre"
   ]
  },
  {
   "cell_type": "markdown",
   "metadata": {},
   "source": [
    "## Ejercicio 1 A: Lee el fichero de airport.csv a partir de una ruta relativa o absoluta"
   ]
  },
  {
   "cell_type": "code",
   "execution_count": 3,
   "metadata": {},
   "outputs": [],
   "source": [
    "import pandas as pd\n",
    "df = pd.read_csv(\"../../Datos/airline-passengers.csv\")"
   ]
  },
  {
   "cell_type": "markdown",
   "metadata": {},
   "source": [
    "## Ejercicio 1 B: Exporta ese fichero en diferentes formatos (json, excel)"
   ]
  },
  {
   "cell_type": "code",
   "execution_count": 4,
   "metadata": {},
   "outputs": [],
   "source": [
    "df.to_excel(\"airline.xlsx\")\n",
    "df.to_json(\"airline.json\")"
   ]
  },
  {
   "cell_type": "markdown",
   "metadata": {},
   "source": [
    "## Ejercicio 1 C: Crea una función que pueda leer cualquiera de los tres formatos indicándole, al menos, la ruta del fichero"
   ]
  },
  {
   "cell_type": "code",
   "execution_count": 11,
   "metadata": {},
   "outputs": [],
   "source": [
    "def read_files(path,**kwargs):\n",
    "    extension = path.split(\".\")[-1]\n",
    "    print(extension)\n",
    "    dict_ext ={\n",
    "        'csv': pd.read_csv,\n",
    "        'json':pd.read_json,\n",
    "        'xlsx':pd.read_excel\n",
    "    }\n",
    "    df = dict_ext[extension](path,**kwargs)\n",
    "    return df"
   ]
  },
  {
   "cell_type": "markdown",
   "metadata": {},
   "source": [
    "## Ejercicio 2 A: Descarga de la librería sklearn el fichero de datos de load_breast_cancer"
   ]
  },
  {
   "cell_type": "code",
   "execution_count": null,
   "metadata": {},
   "outputs": [],
   "source": []
  },
  {
   "cell_type": "markdown",
   "metadata": {},
   "source": [
    "## Ejercicio 2 B: Pasa ese fichero a formato dataframe incluyendo el target"
   ]
  },
  {
   "cell_type": "code",
   "execution_count": null,
   "metadata": {},
   "outputs": [],
   "source": []
  },
  {
   "cell_type": "markdown",
   "metadata": {},
   "source": [
    "## Ejercicio 2 C: Crea un modelo de clasificación usando la técnica que prefieras dentro de Sklearn"
   ]
  },
  {
   "cell_type": "code",
   "execution_count": null,
   "metadata": {},
   "outputs": [],
   "source": []
  },
  {
   "cell_type": "markdown",
   "metadata": {},
   "source": [
    "## Ejercicio 2 D: Evalúa el modelo"
   ]
  },
  {
   "cell_type": "code",
   "execution_count": null,
   "metadata": {},
   "outputs": [],
   "source": []
  },
  {
   "cell_type": "markdown",
   "metadata": {},
   "source": [
    "## Ejercicio 3 A: Descarga el fichero de datos load_diabetes de sklearn y pásalo a formato dataframe"
   ]
  },
  {
   "cell_type": "code",
   "execution_count": null,
   "metadata": {},
   "outputs": [],
   "source": []
  },
  {
   "cell_type": "markdown",
   "metadata": {},
   "source": [
    "## Ejercicio 3 B: Crea un modelo de regresión usando la técnica que prefieras dentro de Sklearn"
   ]
  },
  {
   "cell_type": "code",
   "execution_count": null,
   "metadata": {},
   "outputs": [],
   "source": []
  },
  {
   "cell_type": "markdown",
   "metadata": {},
   "source": [
    "## Ejercicio 3 C: Evalúa el modelo."
   ]
  },
  {
   "cell_type": "code",
   "execution_count": null,
   "metadata": {},
   "outputs": [],
   "source": []
  },
  {
   "cell_type": "markdown",
   "metadata": {},
   "source": [
    "## Ejercicio 4 A: Genera un modelo de clustering a partir del dataset de Wine Recognition Dataset (Que no sea K-Means)"
   ]
  },
  {
   "cell_type": "code",
   "execution_count": null,
   "metadata": {},
   "outputs": [],
   "source": []
  },
  {
   "cell_type": "markdown",
   "metadata": {},
   "source": [
    "## Ejercicio 4 B:  Evalúa el cluster"
   ]
  },
  {
   "cell_type": "code",
   "execution_count": null,
   "metadata": {},
   "outputs": [],
   "source": []
  },
  {
   "cell_type": "markdown",
   "metadata": {},
   "source": [
    "## Extra: Sabrías visualizar como han quedado los clusters?"
   ]
  },
  {
   "cell_type": "code",
   "execution_count": null,
   "metadata": {},
   "outputs": [],
   "source": []
  },
  {
   "cell_type": "markdown",
   "metadata": {},
   "source": [
    "## Sorteo de los trabajos"
   ]
  },
  {
   "cell_type": "code",
   "execution_count": 20,
   "metadata": {},
   "outputs": [
    {
     "name": "stdout",
     "output_type": "stream",
     "text": [
      "El trabajo 7 es para: Oscar-Vicente\n"
     ]
    }
   ],
   "source": [
    "import numpy as np\n",
    "print(\"El trabajo 7 es para: {}\".format(np.random.choice(['Oscar-Vicente','Lorenzo-Bege'])))\n",
    "\n",
    "#['Oscar-Vicente','Lorenzo-Bege']"
   ]
  },
  {
   "cell_type": "code",
   "execution_count": 24,
   "metadata": {},
   "outputs": [
    {
     "name": "stdout",
     "output_type": "stream",
     "text": [
      "El trabajo número 1 es para el grupo Laura-Nicolas\n",
      "El trabajo número 2 es para el grupo Diego-Jaime\n",
      "El trabajo número 3 es para el grupo Cristina-Sonia\n",
      "El trabajo número 4 es para el grupo Lorenzo-Bege\n",
      "El trabajo número 5 es para el grupo Marine-Deborah-Alessandra\n",
      "El trabajo número 6 es para el grupo JuanS-JuanB\n"
     ]
    }
   ],
   "source": [
    "lista = ['JuanS-JuanB','Diego-Jaime', 'Cristina-Sonia', 'Laura-Nicolas', 'Lorenzo-Bege', 'Marine-Deborah-Alessandra']\n",
    "for i in range(1,7):\n",
    "    eleccion = np.random.choice(lista)\n",
    "    print(\"El trabajo número {} es para el grupo {}\".format(i,eleccion))\n",
    "    lista.remove(eleccion)"
   ]
  }
 ],
 "metadata": {
  "kernelspec": {
   "display_name": "Python 3",
   "language": "python",
   "name": "python3"
  },
  "language_info": {
   "codemirror_mode": {
    "name": "ipython",
    "version": 3
   },
   "file_extension": ".py",
   "mimetype": "text/x-python",
   "name": "python",
   "nbconvert_exporter": "python",
   "pygments_lexer": "ipython3",
   "version": "3.8.5"
  }
 },
 "nbformat": 4,
 "nbformat_minor": 4
}
